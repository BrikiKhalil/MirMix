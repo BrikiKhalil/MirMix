{
 "cells": [
  {
   "cell_type": "code",
   "execution_count": 1,
   "metadata": {},
   "outputs": [
    {
     "name": "stdout",
     "output_type": "stream",
     "text": [
      "A# minor\n"
     ]
    }
   ],
   "source": [
    "import sys\n",
    "import essentia\n",
    "from essentia.streaming import *\n",
    "from essentia.standard import YamlOutput\n",
    "\n",
    "try:\n",
    "    infile = '/home/q2017/Downloads/Bee_Gees_-_Stayin_Alive_Official_Video_.wav'\n",
    "    outfile = '/home/q2017/Downloads/aaaaa.Yaml'\n",
    "except:\n",
    "    print \"usage:\", sys.argv[0], \"<input audio file> <output json file>\"\n",
    "    sys.exit()\n",
    "\n",
    "# initialize algorithms we will use\n",
    "loader = MonoLoader(filename=infile)\n",
    "framecutter = FrameCutter()\n",
    "windowing = Windowing(type=\"blackmanharris62\")\n",
    "spectrum = Spectrum()\n",
    "spectralpeaks = SpectralPeaks(orderBy=\"magnitude\",\n",
    "                              magnitudeThreshold=1e-05,\n",
    "                              minFrequency=40,\n",
    "                              maxFrequency=5000, \n",
    "                              maxPeaks=10000)\n",
    "hpcp = HPCP()\n",
    "key = Key()\n",
    "\n",
    "# use pool to store data\n",
    "pool = essentia.Pool() \n",
    "\n",
    "# connect algorithms together\n",
    "loader.audio >> framecutter.signal\n",
    "framecutter.frame >> windowing.frame >> spectrum.frame\n",
    "spectrum.spectrum >> spectralpeaks.spectrum\n",
    "spectralpeaks.magnitudes >> hpcp.magnitudes\n",
    "spectralpeaks.frequencies >> hpcp.frequencies\n",
    "hpcp.hpcp >> key.pcp\n",
    "key.key >> (pool, 'tonal.key_key')\n",
    "key.scale >> (pool, 'tonal.key_scale')\n",
    "key.strength >> (pool, 'tonal.key_strength')\n",
    "\n",
    "# network is ready, run it\n",
    "essentia.run(loader)\n",
    "\n",
    "print pool['tonal.key_key'] + \" \" + pool['tonal.key_scale']\n",
    "\n",
    "# write to json file\n",
    "YamlOutput(filename=outfile, format=\"json\")(pool)"
   ]
  },
  {
   "cell_type": "code",
   "execution_count": null,
   "metadata": {
    "collapsed": true
   },
   "outputs": [],
   "source": []
  }
 ],
 "metadata": {
  "kernelspec": {
   "display_name": "Python 2",
   "language": "python",
   "name": "python2"
  },
  "language_info": {
   "codemirror_mode": {
    "name": "ipython",
    "version": 2
   },
   "file_extension": ".py",
   "mimetype": "text/x-python",
   "name": "python",
   "nbconvert_exporter": "python",
   "pygments_lexer": "ipython2",
   "version": "2.7.12"
  }
 },
 "nbformat": 4,
 "nbformat_minor": 2
}
